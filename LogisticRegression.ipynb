{
 "cells": [
  {
   "cell_type": "code",
   "execution_count": 1,
   "id": "8d9c4cc6",
   "metadata": {},
   "outputs": [],
   "source": [
    "import pandas as pd\n",
    "import numpy as np\n",
    "import math as mt"
   ]
  },
  {
   "cell_type": "code",
   "execution_count": 2,
   "id": "db1174ca",
   "metadata": {},
   "outputs": [],
   "source": [
    "def prepro(df):\n",
    "    \n",
    "    # Menghapus data duplikat\n",
    "    df.drop_duplicates(inplace=True)\n",
    "    dt = df.copy()\n",
    "    \n",
    "    # Handling missing value\n",
    "    list = []\n",
    "    missing_value = dt.isnull().sum().reset_index()\n",
    "    missing_value['missing_value'] = a[0]/df.shape[0]\n",
    "    for i in range(0, len(missing_value)):\n",
    "        # Jika kolom missing_value > 30% maka kolom akan didrop\n",
    "        if missing_value['missing_value'][i] > 0.3:\n",
    "            kolom = missing_value['missing_value'][i]\n",
    "            list.append(kolom)\n",
    "    list\n",
    "    # Menghapus kolom yang memiliki missing value > 30%\n",
    "    df = df.drop(list, axis=1)\n",
    "    \n",
    "    # Kolom dengan missing value <=30% akan diinput median, dengan asumsi memiliki distribusi skewness negatif maupun positive\n",
    "    df.fillna(df.median(), inplace=True)\n",
    "    \n",
    "    return df"
   ]
  },
  {
   "cell_type": "code",
   "execution_count": 3,
   "id": "ed214c87",
   "metadata": {},
   "outputs": [],
   "source": [
    "def sigmoid(z):\n",
    "    # Mendefinisikan fungsi sigmoid pada logreg\n",
    "    return 1 / (1 + np.exp(-z))\n",
    "\n",
    "def gradient_descent(X, y, learning_rate, lambd_, iteration):\n",
    "    \n",
    "    # Menginisiasi nilai awal weight\n",
    "    weight = np.zeros(X.shape[1])\n",
    "    n = X.shape[0]\n",
    "    \n",
    "    for i in range(iteration):\n",
    "        y_topi = sigmoid(np.dot(X, weight))\n",
    "        ridge = lambd_ * weight\n",
    "        gradient = (1/n) * ((np.dot((y_topi-y), X)) + ridge)\n",
    "        weight = weight - learning_rate * gradient  \n",
    "    return weight\n",
    "\n",
    "def logreg_pred(X, weight):\n",
    "\n",
    "    prob = sigmoid(np.dot(X, weight))\n",
    "    list = []\n",
    "    for i in range(0, len(X)):\n",
    "        if prob[i]>0.5:\n",
    "            result = 1\n",
    "            list.append(result)\n",
    "        else:\n",
    "            result = 0\n",
    "            list.append(result)\n",
    "    return list\n",
    "\n",
    "def accuracy(y_actual, y_pred):\n",
    "    \n",
    "    sum = 0\n",
    "    for i in range(0, len(y_actual)):\n",
    "        if y_actual[i]==y_pred[i]:\n",
    "            sum = sum+1\n",
    "    return sum/len(y_actual)"
   ]
  },
  {
   "cell_type": "code",
   "execution_count": null,
   "id": "421af2b0",
   "metadata": {},
   "outputs": [],
   "source": []
  }
 ],
 "metadata": {
  "kernelspec": {
   "display_name": "Python 3 (ipykernel)",
   "language": "python",
   "name": "python3"
  },
  "language_info": {
   "codemirror_mode": {
    "name": "ipython",
    "version": 3
   },
   "file_extension": ".py",
   "mimetype": "text/x-python",
   "name": "python",
   "nbconvert_exporter": "python",
   "pygments_lexer": "ipython3",
   "version": "3.9.12"
  }
 },
 "nbformat": 4,
 "nbformat_minor": 5
}
