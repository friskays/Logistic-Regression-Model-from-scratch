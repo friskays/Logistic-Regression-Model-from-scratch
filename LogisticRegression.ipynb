{
 "cells": [
  {
   "cell_type": "code",
   "execution_count": 17,
   "id": "8d9c4cc6",
   "metadata": {},
   "outputs": [],
   "source": [
    "import pandas as pd\n",
    "import numpy as np\n",
    "import math as mt"
   ]
  },
  {
   "cell_type": "code",
   "execution_count": 18,
   "id": "db1174ca",
   "metadata": {},
   "outputs": [],
   "source": [
    "def prepro(df):\n",
    "    \n",
    "    # Menghapus data duplikat\n",
    "    df.drop_duplicates(inplace=True)\n",
    "    dt = df.copy()\n",
    "    \n",
    "    # Handling missing value\n",
    "    list = []\n",
    "    missing_value = dt.isnull().sum().reset_index()\n",
    "    missing_value['missing_value'] = missing_value[0]/df.shape[0]\n",
    "    for i in range(0, len(missing_value)):\n",
    "        # Jika kolom missing_value > 30% maka kolom akan didrop\n",
    "        if missing_value['missing_value'][i] > 0.3:\n",
    "            kolom = missing_value['index'][i]\n",
    "            list.append(kolom)\n",
    "    list\n",
    "    # Menghapus kolom yang memiliki missing value > 30%\n",
    "    df = df.drop(list, axis=1)\n",
    "    \n",
    "    # Kolom dengan missing value <=30% akan diinput median, dengan asumsi memiliki distribusi skewness negatif maupun positive\n",
    "    df.fillna(df.median(), inplace=True)\n",
    "    \n",
    "    return df"
   ]
  },
  {
   "cell_type": "code",
   "execution_count": 19,
   "id": "ed214c87",
   "metadata": {},
   "outputs": [],
   "source": [
    "def sigmoid(z):\n",
    "    # Mendefinisikan fungsi sigmoid pada logreg\n",
    "    return 1 / (1 + np.exp(-z))\n",
    "\n",
    "def gradient_descent(X, y, learning_rate, lambd_, iteration):\n",
    "\n",
    "    \n",
    "    # Insert matriks kolom berisi nilai 1\n",
    "    X = np.insert(X, 0, 1, axis=1)\n",
    "    \n",
    "    # Menginisiasi nilai awal weight\n",
    "    weight = np.zeros(X.shape[1]) # matriks ukuran X.shape[1]\n",
    "    \n",
    "\n",
    "    n = X.shape[0]\n",
    "    \n",
    "    for i in range(0, iteration):\n",
    "        y_topi = sigmoid(np.dot(X, weight)) # kalikan matriks X ukuran X.shape[0],X.shape[1] dengan weight berukuran X.shape[1]\n",
    "        ridge = lambd_ * weight # Regularization ridge\n",
    "        gradient = (1/n) * ((np.dot((y_topi-y),X)) + ridge) # Turunan dari cost function \n",
    "        weight = weight - learning_rate * gradient \n",
    "    return weight\n",
    "\n",
    "def logreg_pred(X, weight):\n",
    "    X = np.insert(X, 0, 1, axis=1) # Insert matriks kolom berisi nilai 1\n",
    "    \n",
    "    prob = sigmoid(np.dot(X, weight))\n",
    "    list = []\n",
    "    for i in range(0, len(X)):\n",
    "        if prob[i]>0.5:\n",
    "            result = 1\n",
    "            list.append(result)\n",
    "        else:\n",
    "            result = 0\n",
    "            list.append(result)\n",
    "    return list #list ini berisi hasil Y_pred yang berbentuk data kategorik 2 kelas 0 dan 1\n",
    "\n",
    "def accuracy(y_actual, y_pred):\n",
    "    \n",
    "    sum = 0\n",
    "    for i in range(0, len(y_actual)):\n",
    "        if y_actual[i]==y_pred[i]:\n",
    "            sum = sum+1\n",
    "    return sum/len(y_actual)"
   ]
  },
  {
   "cell_type": "code",
   "execution_count": 20,
   "id": "421af2b0",
   "metadata": {},
   "outputs": [],
   "source": [
    "data = {'X': [1, 2, 3, 4, 5, 1, 4, 6, 10, 11],\n",
    "        'X1' : [23, 12, 13, 18, 10, None, 18, None, 10, 18],\n",
    "        'X2' : [20, 10, 13, 10, 19, None, None, None, None, 10],\n",
    "        'Y': [0, 0, 1, 1, 1, 1, 0, 1, 1, 0]}\n",
    "\n",
    "df = pd.DataFrame(data)\n",
    "df = prepro(df)\n",
    "\n",
    "X = df.drop('Y', axis=1)\n",
    "y = df['Y']\n",
    "\n",
    "X = np.array(X)\n",
    "y = np.array(y)"
   ]
  },
  {
   "cell_type": "code",
   "execution_count": 21,
   "id": "0a596547",
   "metadata": {},
   "outputs": [
    {
     "name": "stdout",
     "output_type": "stream",
     "text": [
      "weight : [ 0.13580131  0.11167048 -0.02962307]\n",
      "Hasil Prediksi : [0, 1, 1, 1, 1, 0, 1, 1, 1, 1]\n",
      "Accucary : 0.6\n"
     ]
    }
   ],
   "source": [
    "weight = gradient_descent(X, y, 0.03, 1, 100)\n",
    "print(\"weight :\", weight)\n",
    "print(\"Hasil Prediksi :\", logreg_pred(X, weight))\n",
    "print(\"Accucary :\", accuracy(y, logreg_pred(X, weight)))"
   ]
  },
  {
   "cell_type": "code",
   "execution_count": 22,
   "id": "5e89590d",
   "metadata": {},
   "outputs": [],
   "source": [
    "from sklearn.datasets import make_classification\n",
    "X, y = make_classification(n_samples=100, n_features=4, random_state=42)"
   ]
  },
  {
   "cell_type": "code",
   "execution_count": 23,
   "id": "11805beb",
   "metadata": {},
   "outputs": [
    {
     "name": "stdout",
     "output_type": "stream",
     "text": [
      "weight : [ 0.00639662 -0.086495   -0.26829086 -0.62733595  0.80705913]\n",
      "Hasil Prediksi : [1, 0, 1, 0, 0, 1, 0, 1, 0, 0, 1, 0, 1, 0, 0, 1, 1, 1, 1, 1, 1, 0, 0, 0, 0, 1, 1, 0, 0, 0, 1, 1, 1, 0, 1, 1, 1, 0, 1, 1, 1, 0, 0, 0, 0, 1, 1, 0, 1, 0, 1, 0, 0, 1, 0, 1, 1, 0, 0, 1, 0, 1, 1, 1, 0, 0, 0, 0, 0, 1, 0, 1, 0, 1, 1, 0, 0, 1, 1, 0, 1, 1, 0, 0, 0, 1, 1, 0, 1, 1, 1, 1, 0, 0, 0, 0, 1, 0, 1, 1]\n",
      "Accucary : 0.95\n"
     ]
    }
   ],
   "source": [
    "weight = gradient_descent(X, y, 0.03, 1, 100)\n",
    "print(\"weight :\", weight)\n",
    "print(\"Hasil Prediksi :\", logreg_pred(X, weight))\n",
    "print(\"Accucary :\", accuracy(y, logreg_pred(X, weight)))"
   ]
  },
  {
   "cell_type": "markdown",
   "id": "bda31512",
   "metadata": {},
   "source": [
    "# Jika menggunakan Logistic Regression sklearn"
   ]
  },
  {
   "cell_type": "code",
   "execution_count": 24,
   "id": "8769509d",
   "metadata": {},
   "outputs": [],
   "source": [
    "from sklearn.linear_model import LogisticRegression"
   ]
  },
  {
   "cell_type": "code",
   "execution_count": 25,
   "id": "dfbe50ce",
   "metadata": {},
   "outputs": [],
   "source": [
    "data = {'X': [1, 2, 3, 4, 5, 1, 4, 6, 10, 11],\n",
    "        'X1' : [23, 12, 13, 18, 10, None, 18, None, 10, 18],\n",
    "        'X2' : [20, 10, 13, 10, 19, None, None, None, None, 10],\n",
    "        'Y': [0, 0, 1, 1, 1, 1, 0, 1, 1, 0]}\n",
    "\n",
    "df = pd.DataFrame(data)\n",
    "df = prepro(df)\n",
    "\n",
    "X = df.drop('Y', axis=1)\n",
    "y = df['Y']\n",
    "\n",
    "X = np.array(X)\n",
    "y = np.array(y)"
   ]
  },
  {
   "cell_type": "code",
   "execution_count": 26,
   "id": "b9584c15",
   "metadata": {},
   "outputs": [],
   "source": [
    "clf = LogisticRegression(random_state=42).fit(X, y)\n",
    "y_pred = clf.predict(X)"
   ]
  },
  {
   "cell_type": "code",
   "execution_count": 27,
   "id": "adff3791",
   "metadata": {},
   "outputs": [
    {
     "data": {
      "text/plain": [
       "0.8"
      ]
     },
     "execution_count": 27,
     "metadata": {},
     "output_type": "execute_result"
    }
   ],
   "source": [
    "clf.score(X, y)"
   ]
  },
  {
   "cell_type": "code",
   "execution_count": 28,
   "id": "672cf701",
   "metadata": {},
   "outputs": [
    {
     "data": {
      "text/plain": [
       "0.99"
      ]
     },
     "execution_count": 28,
     "metadata": {},
     "output_type": "execute_result"
    }
   ],
   "source": [
    "X, y = make_classification(n_samples=100, n_features=4, random_state=42)\n",
    "clf = LogisticRegression(random_state=42).fit(X, y)\n",
    "y_pred = clf.predict(X)\n",
    "clf.score(X, y)"
   ]
  },
  {
   "cell_type": "code",
   "execution_count": null,
   "id": "5fcc1d8e",
   "metadata": {},
   "outputs": [],
   "source": []
  },
  {
   "cell_type": "code",
   "execution_count": null,
   "id": "74c595b2",
   "metadata": {},
   "outputs": [],
   "source": []
  }
 ],
 "metadata": {
  "kernelspec": {
   "display_name": "Python 3 (ipykernel)",
   "language": "python",
   "name": "python3"
  },
  "language_info": {
   "codemirror_mode": {
    "name": "ipython",
    "version": 3
   },
   "file_extension": ".py",
   "mimetype": "text/x-python",
   "name": "python",
   "nbconvert_exporter": "python",
   "pygments_lexer": "ipython3",
   "version": "3.9.12"
  }
 },
 "nbformat": 4,
 "nbformat_minor": 5
}
